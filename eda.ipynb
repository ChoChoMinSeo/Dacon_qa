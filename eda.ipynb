{
 "cells": [
  {
   "cell_type": "code",
   "execution_count": 1,
   "metadata": {},
   "outputs": [],
   "source": [
    "import pandas as pd"
   ]
  },
  {
   "cell_type": "code",
   "execution_count": 2,
   "metadata": {},
   "outputs": [],
   "source": [
    "data = pd.read_csv('./train.csv')"
   ]
  },
  {
   "cell_type": "markdown",
   "metadata": {},
   "source": [
    "category"
   ]
  },
  {
   "cell_type": "code",
   "execution_count": 4,
   "metadata": {},
   "outputs": [
    {
     "data": {
      "text/plain": [
       "마감재       272\n",
       "인테리어      123\n",
       "시공        111\n",
       "마감하자       60\n",
       "건축구조       31\n",
       "기타         27\n",
       "타 마감하자     20\n",
       "Name: category, dtype: int64"
      ]
     },
     "execution_count": 4,
     "metadata": {},
     "output_type": "execute_result"
    }
   ],
   "source": [
    "data['category'].value_counts()"
   ]
  },
  {
   "cell_type": "code",
   "execution_count": 21,
   "metadata": {},
   "outputs": [
    {
     "data": {
      "text/html": [
       "<div>\n",
       "<style scoped>\n",
       "    .dataframe tbody tr th:only-of-type {\n",
       "        vertical-align: middle;\n",
       "    }\n",
       "\n",
       "    .dataframe tbody tr th {\n",
       "        vertical-align: top;\n",
       "    }\n",
       "\n",
       "    .dataframe thead th {\n",
       "        text-align: right;\n",
       "    }\n",
       "</style>\n",
       "<table border=\"1\" class=\"dataframe\">\n",
       "  <thead>\n",
       "    <tr style=\"text-align: right;\">\n",
       "      <th></th>\n",
       "      <th>id</th>\n",
       "      <th>질문_1</th>\n",
       "      <th>질문_2</th>\n",
       "      <th>category</th>\n",
       "      <th>답변_1</th>\n",
       "      <th>답변_2</th>\n",
       "      <th>답변_3</th>\n",
       "      <th>답변_4</th>\n",
       "      <th>답변_5</th>\n",
       "    </tr>\n",
       "  </thead>\n",
       "  <tbody>\n",
       "    <tr>\n",
       "      <th>624</th>\n",
       "      <td>TRAIN_624</td>\n",
       "      <td>외벽모서리 부위 결로의 대책은 뭐야?</td>\n",
       "      <td>외벽 모서리 부위 결로를 해결하기 위한 가장 효과적인 방법은 무엇인가요?</td>\n",
       "      <td>타 마감하자</td>\n",
       "      <td>외벽모서리에 발생한 결로의 대책은 10mm 두께로 단열몰탈을 바르거나 판상 단열재를...</td>\n",
       "      <td>외벽모서리에 발생한 결로를 해결하기 위한 대책으로는 10mm 두께의 단열 몰탈을 바...</td>\n",
       "      <td>외벽모서리 부위에 발생한 결로를 해결하기 위한 대책 중 하나는 10mm 두께로 단열...</td>\n",
       "      <td>외벽모서리 부위에 발생한 결로에 대한 대책으로는 10mm 두께의 단열몰탈을 바르거나...</td>\n",
       "      <td>외벽모서리 부위에 발생한 결로를 해결하기 위한 가장 일반적인 방법은 10mm 두께의...</td>\n",
       "    </tr>\n",
       "    <tr>\n",
       "      <th>625</th>\n",
       "      <td>TRAIN_625</td>\n",
       "      <td>결로가 발생하는 원인이 뭐야?</td>\n",
       "      <td>결로가 발생하는 주된 이유가 무엇인가요?</td>\n",
       "      <td>타 마감하자</td>\n",
       "      <td>결로가 발생하는 원인은 높은 습도와 차가운 표면온도가 있습니다.</td>\n",
       "      <td>결로가 발생하는 원인은 대기 중 습도가 높고, 표면 온도가 낮은 조건에서 발생합니다...</td>\n",
       "      <td>결로가 발생하는 주된 원인은 높은 습도와 차가운 표면온도입니다. 물방울이 형성되고 ...</td>\n",
       "      <td>결로가 발생하는 원인은 고온 다습환경에서 수분이 축적되어 발생할 수 있습니다. 특히...</td>\n",
       "      <td>결로가 발생하는 가장 일반적인 원인은 고습과 차가운 표면 온도입니다. 습기가 충분히...</td>\n",
       "    </tr>\n",
       "    <tr>\n",
       "      <th>626</th>\n",
       "      <td>TRAIN_626</td>\n",
       "      <td>현관문 주위 결로의 대책은 뭐야?</td>\n",
       "      <td>현관문 주위 결로를 막는 방법이 있을까요?</td>\n",
       "      <td>타 마감하자</td>\n",
       "      <td>현관문 주위 결로의 대책은 규격제품을 사용하고 방화문 현관문 내부 종이 허니컴 사이...</td>\n",
       "      <td>현관문 주위 결로의 대책은 다양한 방법으로 가능합니다. 먼저 규격제품을 사용하여 현...</td>\n",
       "      <td>현관문 주위 결로 대책으로는 규격제품을 사용하고 방화문 현관문 내부의 종이 허니컴 ...</td>\n",
       "      <td>현관문 주위 결로의 대책은 규격제품을 사용하고 방화문과 현관문 내부의 종이 허니컴 ...</td>\n",
       "      <td>현관문 주위 결로 방지를 위한 대책으로는 규격제품을 사용하고, 방화문 현관문 내부의...</td>\n",
       "    </tr>\n",
       "    <tr>\n",
       "      <th>627</th>\n",
       "      <td>TRAIN_627</td>\n",
       "      <td>부엌 및 욕실의 결로의 대책은 뭐야?</td>\n",
       "      <td>부엌이나 욕실에서의 결로 방지를 위한 가장 효과적인 방법은 무엇인가요?</td>\n",
       "      <td>타 마감하자</td>\n",
       "      <td>부엌 및 욕실의 결로에 대한 대책은 환기구 설치입니다. 부엌 및 욕실의 결로는 주로...</td>\n",
       "      <td>부엌 및 욕실의 결로에 대한 대책으로는 환기구 설치가 필요합니다. 부엌과 욕실은 실...</td>\n",
       "      <td>부엌 및 욕실의 결로에 대한 대책은 환기 시스템을 설치하는 것입니다. 부엌 및 욕실...</td>\n",
       "      <td>부엌과 욕실의 결로에 대한 대책으로는, 환기구 설치가 중요합니다. 부엌과 욕실은 물...</td>\n",
       "      <td>부엌 및 욕실의 결로를 방지하는 대책 중 하나는 환기구를 설치하는 것입니다. 부엌 ...</td>\n",
       "    </tr>\n",
       "    <tr>\n",
       "      <th>628</th>\n",
       "      <td>TRAIN_628</td>\n",
       "      <td>결로 판정 기준이 어떻게 돼?</td>\n",
       "      <td>결로가 발생하는 기준은 무엇이며, 어떤 조건에서 결로로 인정되는지 알고 계신가요?</td>\n",
       "      <td>타 마감하자</td>\n",
       "      <td>결로 판정 기준은 국토교통부 설계기준으로 실내온도 25도, 상대습도 50%, 외부온...</td>\n",
       "      <td>결로 판정 기준은 주로 국토교통부의 설계기준을 따릅니다. 이에 따라, 국토교통부의 ...</td>\n",
       "      <td>결로 판정 기준은 국토교통부의 설계기준에 따라 결로가 발생하지 않는 조건을 설정하고...</td>\n",
       "      <td>결로 판정 기준은 국토교통부의 설계기준에 따라 결정됩니다. 일반적으로, 실내온도 2...</td>\n",
       "      <td>결로 판정 기준은 국토교통부의 설계기준에 따라서 결정됩니다. 일반적으로 실내온도 2...</td>\n",
       "    </tr>\n",
       "  </tbody>\n",
       "</table>\n",
       "</div>"
      ],
      "text/plain": [
       "            id                  질문_1  \\\n",
       "624  TRAIN_624  외벽모서리 부위 결로의 대책은 뭐야?   \n",
       "625  TRAIN_625      결로가 발생하는 원인이 뭐야?   \n",
       "626  TRAIN_626    현관문 주위 결로의 대책은 뭐야?   \n",
       "627  TRAIN_627  부엌 및 욕실의 결로의 대책은 뭐야?   \n",
       "628  TRAIN_628      결로 판정 기준이 어떻게 돼?   \n",
       "\n",
       "                                              질문_2 category  \\\n",
       "624       외벽 모서리 부위 결로를 해결하기 위한 가장 효과적인 방법은 무엇인가요?   타 마감하자   \n",
       "625                         결로가 발생하는 주된 이유가 무엇인가요?   타 마감하자   \n",
       "626                        현관문 주위 결로를 막는 방법이 있을까요?   타 마감하자   \n",
       "627        부엌이나 욕실에서의 결로 방지를 위한 가장 효과적인 방법은 무엇인가요?   타 마감하자   \n",
       "628  결로가 발생하는 기준은 무엇이며, 어떤 조건에서 결로로 인정되는지 알고 계신가요?   타 마감하자   \n",
       "\n",
       "                                                  답변_1  \\\n",
       "624  외벽모서리에 발생한 결로의 대책은 10mm 두께로 단열몰탈을 바르거나 판상 단열재를...   \n",
       "625                결로가 발생하는 원인은 높은 습도와 차가운 표면온도가 있습니다.   \n",
       "626  현관문 주위 결로의 대책은 규격제품을 사용하고 방화문 현관문 내부 종이 허니컴 사이...   \n",
       "627  부엌 및 욕실의 결로에 대한 대책은 환기구 설치입니다. 부엌 및 욕실의 결로는 주로...   \n",
       "628  결로 판정 기준은 국토교통부 설계기준으로 실내온도 25도, 상대습도 50%, 외부온...   \n",
       "\n",
       "                                                  답변_2  \\\n",
       "624  외벽모서리에 발생한 결로를 해결하기 위한 대책으로는 10mm 두께의 단열 몰탈을 바...   \n",
       "625  결로가 발생하는 원인은 대기 중 습도가 높고, 표면 온도가 낮은 조건에서 발생합니다...   \n",
       "626  현관문 주위 결로의 대책은 다양한 방법으로 가능합니다. 먼저 규격제품을 사용하여 현...   \n",
       "627  부엌 및 욕실의 결로에 대한 대책으로는 환기구 설치가 필요합니다. 부엌과 욕실은 실...   \n",
       "628  결로 판정 기준은 주로 국토교통부의 설계기준을 따릅니다. 이에 따라, 국토교통부의 ...   \n",
       "\n",
       "                                                  답변_3  \\\n",
       "624  외벽모서리 부위에 발생한 결로를 해결하기 위한 대책 중 하나는 10mm 두께로 단열...   \n",
       "625  결로가 발생하는 주된 원인은 높은 습도와 차가운 표면온도입니다. 물방울이 형성되고 ...   \n",
       "626  현관문 주위 결로 대책으로는 규격제품을 사용하고 방화문 현관문 내부의 종이 허니컴 ...   \n",
       "627  부엌 및 욕실의 결로에 대한 대책은 환기 시스템을 설치하는 것입니다. 부엌 및 욕실...   \n",
       "628  결로 판정 기준은 국토교통부의 설계기준에 따라 결로가 발생하지 않는 조건을 설정하고...   \n",
       "\n",
       "                                                  답변_4  \\\n",
       "624  외벽모서리 부위에 발생한 결로에 대한 대책으로는 10mm 두께의 단열몰탈을 바르거나...   \n",
       "625  결로가 발생하는 원인은 고온 다습환경에서 수분이 축적되어 발생할 수 있습니다. 특히...   \n",
       "626  현관문 주위 결로의 대책은 규격제품을 사용하고 방화문과 현관문 내부의 종이 허니컴 ...   \n",
       "627  부엌과 욕실의 결로에 대한 대책으로는, 환기구 설치가 중요합니다. 부엌과 욕실은 물...   \n",
       "628  결로 판정 기준은 국토교통부의 설계기준에 따라 결정됩니다. 일반적으로, 실내온도 2...   \n",
       "\n",
       "                                                  답변_5  \n",
       "624  외벽모서리 부위에 발생한 결로를 해결하기 위한 가장 일반적인 방법은 10mm 두께의...  \n",
       "625  결로가 발생하는 가장 일반적인 원인은 고습과 차가운 표면 온도입니다. 습기가 충분히...  \n",
       "626  현관문 주위 결로 방지를 위한 대책으로는 규격제품을 사용하고, 방화문 현관문 내부의...  \n",
       "627  부엌 및 욕실의 결로를 방지하는 대책 중 하나는 환기구를 설치하는 것입니다. 부엌 ...  \n",
       "628  결로 판정 기준은 국토교통부의 설계기준에 따라서 결정됩니다. 일반적으로 실내온도 2...  "
      ]
     },
     "execution_count": 21,
     "metadata": {},
     "output_type": "execute_result"
    }
   ],
   "source": [
    "data[data['category']=='타 마감하자'].head()"
   ]
  },
  {
   "cell_type": "code",
   "execution_count": 144,
   "metadata": {},
   "outputs": [
    {
     "name": "stdout",
     "output_type": "stream",
     "text": [
      "[9094, 8265, 7793, 10346, 10036, 11732, 9666, 8244, 1] 내진설계의 종류 좀 알려줘</s>\n"
     ]
    }
   ],
   "source": [
    "print(tokenized_q[1], org_q[1])"
   ]
  },
  {
   "cell_type": "code",
   "execution_count": 5,
   "metadata": {},
   "outputs": [
    {
     "name": "stderr",
     "output_type": "stream",
     "text": [
      "C:\\Users\\artis\\AppData\\Local\\Packages\\PythonSoftwareFoundation.Python.3.11_qbz5n2kfra8p0\\LocalCache\\local-packages\\Python311\\site-packages\\tqdm\\auto.py:21: TqdmWarning: IProgress not found. Please update jupyter and ipywidgets. See https://ipywidgets.readthedocs.io/en/stable/user_install.html\n",
      "  from .autonotebook import tqdm as notebook_tqdm\n",
      "The tokenizer class you load from this checkpoint is not the same type as the class this function is called from. It may result in unexpected tokenization. \n",
      "The tokenizer class you load from this checkpoint is 'GPT2Tokenizer'. \n",
      "The class this function is called from is 'PreTrainedTokenizerFast'.\n"
     ]
    }
   ],
   "source": [
    "from tqdm import tqdm\n",
    "from transformers import PreTrainedTokenizerFast\n",
    "tokenizer = PreTrainedTokenizerFast.from_pretrained('skt/kogpt2-base-v2', eos_token='</s>')"
   ]
  },
  {
   "cell_type": "code",
   "execution_count": 156,
   "metadata": {},
   "outputs": [
    {
     "name": "stderr",
     "output_type": "stream",
     "text": [
      "644it [00:00, 5410.17it/s]"
     ]
    },
    {
     "name": "stdout",
     "output_type": "stream",
     "text": [
      "Done. 22\n"
     ]
    },
    {
     "name": "stderr",
     "output_type": "stream",
     "text": [
      "\n"
     ]
    }
   ],
   "source": [
    "tokenized_q=[]\n",
    "org_q = []\n",
    "max_len=0\n",
    "for _, row in tqdm(data.iterrows()):\n",
    "    for q_col in ['질문_1']:\n",
    "        # 질문과 답변 쌍을 </s> token으로 연결\n",
    "        input_text = row[q_col]\n",
    "        org_q.append(input_text)\n",
    "        input_ids = tokenizer.encode(input_text)\n",
    "        tokenized_q.append(input_ids)\n",
    "        max_len = max(max_len,len(input_ids))\n",
    "print('Done.',max_len)"
   ]
  },
  {
   "cell_type": "code",
   "execution_count": 157,
   "metadata": {},
   "outputs": [
    {
     "data": {
      "text/plain": [
       "51200"
      ]
     },
     "execution_count": 157,
     "metadata": {},
     "output_type": "execute_result"
    }
   ],
   "source": [
    "tokenizer.vocab_size"
   ]
  },
  {
   "cell_type": "code",
   "execution_count": 132,
   "metadata": {},
   "outputs": [],
   "source": [
    "# from sklearn.preprocessing import StandardScaler\n",
    "# scaler = StandardScaler()\n",
    "# scaler.fit(padded_q_tokens)\n",
    "# Xscaled = scaler.transform(padded_q_tokens)"
   ]
  },
  {
   "cell_type": "code",
   "execution_count": 134,
   "metadata": {},
   "outputs": [],
   "source": [
    "import numpy as np\n",
    "from sklearn.cluster import KMeans\n",
    "import matplotlib.pyplot as plt"
   ]
  },
  {
   "cell_type": "code",
   "execution_count": 147,
   "metadata": {},
   "outputs": [],
   "source": [
    "category_gt = data['category']\n",
    "category_gt\n",
    "category_num = []\n",
    "for i in category_gt:\n",
    "    if i == '마감재':\n",
    "        num = 0\n",
    "    elif i == '인테리어':\n",
    "        num = 1\n",
    "    elif i == '시공':\n",
    "        num = 2\n",
    "    elif i == '마감하자':\n",
    "        num = 3\n",
    "    elif i == '건축구조':\n",
    "        num = 4\n",
    "    elif i == '기타':\n",
    "        num - 5\n",
    "    elif i == '타 마감하자':\n",
    "        num = 6\n",
    "    category_num.append(num)"
   ]
  },
  {
   "cell_type": "code",
   "execution_count": 148,
   "metadata": {},
   "outputs": [
    {
     "data": {
      "text/html": [
       "<style>#sk-container-id-14 {color: black;background-color: white;}#sk-container-id-14 pre{padding: 0;}#sk-container-id-14 div.sk-toggleable {background-color: white;}#sk-container-id-14 label.sk-toggleable__label {cursor: pointer;display: block;width: 100%;margin-bottom: 0;padding: 0.3em;box-sizing: border-box;text-align: center;}#sk-container-id-14 label.sk-toggleable__label-arrow:before {content: \"▸\";float: left;margin-right: 0.25em;color: #696969;}#sk-container-id-14 label.sk-toggleable__label-arrow:hover:before {color: black;}#sk-container-id-14 div.sk-estimator:hover label.sk-toggleable__label-arrow:before {color: black;}#sk-container-id-14 div.sk-toggleable__content {max-height: 0;max-width: 0;overflow: hidden;text-align: left;background-color: #f0f8ff;}#sk-container-id-14 div.sk-toggleable__content pre {margin: 0.2em;color: black;border-radius: 0.25em;background-color: #f0f8ff;}#sk-container-id-14 input.sk-toggleable__control:checked~div.sk-toggleable__content {max-height: 200px;max-width: 100%;overflow: auto;}#sk-container-id-14 input.sk-toggleable__control:checked~label.sk-toggleable__label-arrow:before {content: \"▾\";}#sk-container-id-14 div.sk-estimator input.sk-toggleable__control:checked~label.sk-toggleable__label {background-color: #d4ebff;}#sk-container-id-14 div.sk-label input.sk-toggleable__control:checked~label.sk-toggleable__label {background-color: #d4ebff;}#sk-container-id-14 input.sk-hidden--visually {border: 0;clip: rect(1px 1px 1px 1px);clip: rect(1px, 1px, 1px, 1px);height: 1px;margin: -1px;overflow: hidden;padding: 0;position: absolute;width: 1px;}#sk-container-id-14 div.sk-estimator {font-family: monospace;background-color: #f0f8ff;border: 1px dotted black;border-radius: 0.25em;box-sizing: border-box;margin-bottom: 0.5em;}#sk-container-id-14 div.sk-estimator:hover {background-color: #d4ebff;}#sk-container-id-14 div.sk-parallel-item::after {content: \"\";width: 100%;border-bottom: 1px solid gray;flex-grow: 1;}#sk-container-id-14 div.sk-label:hover label.sk-toggleable__label {background-color: #d4ebff;}#sk-container-id-14 div.sk-serial::before {content: \"\";position: absolute;border-left: 1px solid gray;box-sizing: border-box;top: 0;bottom: 0;left: 50%;z-index: 0;}#sk-container-id-14 div.sk-serial {display: flex;flex-direction: column;align-items: center;background-color: white;padding-right: 0.2em;padding-left: 0.2em;position: relative;}#sk-container-id-14 div.sk-item {position: relative;z-index: 1;}#sk-container-id-14 div.sk-parallel {display: flex;align-items: stretch;justify-content: center;background-color: white;position: relative;}#sk-container-id-14 div.sk-item::before, #sk-container-id-14 div.sk-parallel-item::before {content: \"\";position: absolute;border-left: 1px solid gray;box-sizing: border-box;top: 0;bottom: 0;left: 50%;z-index: -1;}#sk-container-id-14 div.sk-parallel-item {display: flex;flex-direction: column;z-index: 1;position: relative;background-color: white;}#sk-container-id-14 div.sk-parallel-item:first-child::after {align-self: flex-end;width: 50%;}#sk-container-id-14 div.sk-parallel-item:last-child::after {align-self: flex-start;width: 50%;}#sk-container-id-14 div.sk-parallel-item:only-child::after {width: 0;}#sk-container-id-14 div.sk-dashed-wrapped {border: 1px dashed gray;margin: 0 0.4em 0.5em 0.4em;box-sizing: border-box;padding-bottom: 0.4em;background-color: white;}#sk-container-id-14 div.sk-label label {font-family: monospace;font-weight: bold;display: inline-block;line-height: 1.2em;}#sk-container-id-14 div.sk-label-container {text-align: center;}#sk-container-id-14 div.sk-container {/* jupyter's `normalize.less` sets `[hidden] { display: none; }` but bootstrap.min.css set `[hidden] { display: none !important; }` so we also need the `!important` here to be able to override the default hidden behavior on the sphinx rendered scikit-learn.org. See: https://github.com/scikit-learn/scikit-learn/issues/21755 */display: inline-block !important;position: relative;}#sk-container-id-14 div.sk-text-repr-fallback {display: none;}</style><div id=\"sk-container-id-14\" class=\"sk-top-container\"><div class=\"sk-text-repr-fallback\"><pre>GaussianMixture(n_components=7, random_state=0)</pre><b>In a Jupyter environment, please rerun this cell to show the HTML representation or trust the notebook. <br />On GitHub, the HTML representation is unable to render, please try loading this page with nbviewer.org.</b></div><div class=\"sk-container\" hidden><div class=\"sk-item\"><div class=\"sk-estimator sk-toggleable\"><input class=\"sk-toggleable__control sk-hidden--visually\" id=\"sk-estimator-id-14\" type=\"checkbox\" checked><label for=\"sk-estimator-id-14\" class=\"sk-toggleable__label sk-toggleable__label-arrow\">GaussianMixture</label><div class=\"sk-toggleable__content\"><pre>GaussianMixture(n_components=7, random_state=0)</pre></div></div></div></div></div>"
      ],
      "text/plain": [
       "GaussianMixture(n_components=7, random_state=0)"
      ]
     },
     "execution_count": 148,
     "metadata": {},
     "output_type": "execute_result"
    }
   ],
   "source": [
    "from sklearn.mixture import GaussianMixture\n",
    "f = GaussianMixture(n_components=7,random_state=0)\n",
    "f.fit(padded_q_tokens)"
   ]
  },
  {
   "cell_type": "code",
   "execution_count": null,
   "metadata": {},
   "outputs": [],
   "source": [
    "f.predict(padded_q_tokens)"
   ]
  },
  {
   "cell_type": "code",
   "execution_count": 150,
   "metadata": {},
   "outputs": [
    {
     "name": "stdout",
     "output_type": "stream",
     "text": [
      "-85.58278171172053\n"
     ]
    }
   ],
   "source": [
    "print(f.score(padded_q_tokens, category_gt))"
   ]
  },
  {
   "cell_type": "code",
   "execution_count": 125,
   "metadata": {},
   "outputs": [
    {
     "name": "stdout",
     "output_type": "stream",
     "text": [
      "644 644\n"
     ]
    }
   ],
   "source": [
    "print(len(f.predict(Xscaled)), len(category_num))"
   ]
  },
  {
   "cell_type": "code",
   "execution_count": 151,
   "metadata": {},
   "outputs": [
    {
     "data": {
      "text/html": [
       "<div>\n",
       "<style scoped>\n",
       "    .dataframe tbody tr th:only-of-type {\n",
       "        vertical-align: middle;\n",
       "    }\n",
       "\n",
       "    .dataframe tbody tr th {\n",
       "        vertical-align: top;\n",
       "    }\n",
       "\n",
       "    .dataframe thead th {\n",
       "        text-align: right;\n",
       "    }\n",
       "</style>\n",
       "<table border=\"1\" class=\"dataframe\">\n",
       "  <thead>\n",
       "    <tr style=\"text-align: right;\">\n",
       "      <th>col_0</th>\n",
       "      <th>0</th>\n",
       "      <th>1</th>\n",
       "      <th>2</th>\n",
       "      <th>3</th>\n",
       "      <th>4</th>\n",
       "      <th>6</th>\n",
       "    </tr>\n",
       "    <tr>\n",
       "      <th>row_0</th>\n",
       "      <th></th>\n",
       "      <th></th>\n",
       "      <th></th>\n",
       "      <th></th>\n",
       "      <th></th>\n",
       "      <th></th>\n",
       "    </tr>\n",
       "  </thead>\n",
       "  <tbody>\n",
       "    <tr>\n",
       "      <th>0</th>\n",
       "      <td>7</td>\n",
       "      <td>18</td>\n",
       "      <td>8</td>\n",
       "      <td>11</td>\n",
       "      <td>2</td>\n",
       "      <td>0</td>\n",
       "    </tr>\n",
       "    <tr>\n",
       "      <th>1</th>\n",
       "      <td>1</td>\n",
       "      <td>9</td>\n",
       "      <td>7</td>\n",
       "      <td>4</td>\n",
       "      <td>2</td>\n",
       "      <td>0</td>\n",
       "    </tr>\n",
       "    <tr>\n",
       "      <th>2</th>\n",
       "      <td>0</td>\n",
       "      <td>2</td>\n",
       "      <td>2</td>\n",
       "      <td>1</td>\n",
       "      <td>0</td>\n",
       "      <td>2</td>\n",
       "    </tr>\n",
       "    <tr>\n",
       "      <th>3</th>\n",
       "      <td>55</td>\n",
       "      <td>3</td>\n",
       "      <td>8</td>\n",
       "      <td>3</td>\n",
       "      <td>10</td>\n",
       "      <td>1</td>\n",
       "    </tr>\n",
       "    <tr>\n",
       "      <th>4</th>\n",
       "      <td>190</td>\n",
       "      <td>77</td>\n",
       "      <td>76</td>\n",
       "      <td>36</td>\n",
       "      <td>40</td>\n",
       "      <td>13</td>\n",
       "    </tr>\n",
       "    <tr>\n",
       "      <th>5</th>\n",
       "      <td>1</td>\n",
       "      <td>7</td>\n",
       "      <td>3</td>\n",
       "      <td>1</td>\n",
       "      <td>0</td>\n",
       "      <td>4</td>\n",
       "    </tr>\n",
       "    <tr>\n",
       "      <th>6</th>\n",
       "      <td>18</td>\n",
       "      <td>7</td>\n",
       "      <td>7</td>\n",
       "      <td>4</td>\n",
       "      <td>4</td>\n",
       "      <td>0</td>\n",
       "    </tr>\n",
       "  </tbody>\n",
       "</table>\n",
       "</div>"
      ],
      "text/plain": [
       "col_0    0   1   2   3   4   6\n",
       "row_0                         \n",
       "0        7  18   8  11   2   0\n",
       "1        1   9   7   4   2   0\n",
       "2        0   2   2   1   0   2\n",
       "3       55   3   8   3  10   1\n",
       "4      190  77  76  36  40  13\n",
       "5        1   7   3   1   0   4\n",
       "6       18   7   7   4   4   0"
      ]
     },
     "execution_count": 151,
     "metadata": {},
     "output_type": "execute_result"
    }
   ],
   "source": [
    "pd.crosstab(f.predict(padded_q_tokens),category_num)"
   ]
  },
  {
   "cell_type": "code",
   "execution_count": 152,
   "metadata": {},
   "outputs": [
    {
     "data": {
      "image/png": "[encoded data removed]",
      "text/plain": [
       "<Figure size 640x480 with 1 Axes>"
      ]
     },
     "metadata": {},
     "output_type": "display_data"
    }
   ],
   "source": [
    "plt.scatter(f.predict(padded_q_tokens),category_num,c=category_num)\n",
    "plt.xlabel('kmeans'); plt.ylabel('label')\n",
    "plt.show()"
   ]
  }
 ],
 "metadata": {
  "kernelspec": {
   "display_name": "Python 3",
   "language": "python",
   "name": "python3"
  },
  "language_info": {
   "codemirror_mode": {
    "name": "ipython",
    "version": 3
   },
   "file_extension": ".py",
   "mimetype": "text/x-python",
   "name": "python",
   "nbconvert_exporter": "python",
   "pygments_lexer": "ipython3",
   "version": "3.11.6"
  }
 },
 "nbformat": 4,
 "nbformat_minor": 2
}
